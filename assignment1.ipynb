{
  "nbformat": 4,
  "nbformat_minor": 0,
  "metadata": {
    "colab": {
      "provenance": []
    },
    "kernelspec": {
      "name": "python3",
      "display_name": "Python 3"
    },
    "language_info": {
      "name": "python"
    }
  },
  "cells": [
    {
      "cell_type": "markdown",
      "source": [
        "(1) Who developed Python Programming Language?"
      ],
      "metadata": {
        "id": "CNdu9pnB9NU9"
      }
    },
    {
      "cell_type": "markdown",
      "source": [
        "Python was developed by Guido van Rossum and was released first on February 20, 1991."
      ],
      "metadata": {
        "id": "idVOv8359sm6"
      }
    },
    {
      "cell_type": "markdown",
      "source": [
        "(2) Which type of programming does Python support?"
      ],
      "metadata": {
        "id": "a4YGewgj-FI3"
      }
    },
    {
      "cell_type": "markdown",
      "source": [
        "Python is an interpreted programming language, which supports object-oriented, structured, and functional programming."
      ],
      "metadata": {
        "id": "VjaOvP7J_E4g"
      }
    },
    {
      "cell_type": "markdown",
      "source": [
        "(3) Is Python case sensitive when dealing with identifiers?"
      ],
      "metadata": {
        "id": "R1xR3k6d_HOW"
      }
    },
    {
      "cell_type": "markdown",
      "source": [
        "Yes"
      ],
      "metadata": {
        "id": "W3tEJDyo_Sab"
      }
    },
    {
      "cell_type": "markdown",
      "source": [
        "(4) What is the correct extension of the Python file?"
      ],
      "metadata": {
        "id": "Ka97shlL_kLK"
      }
    },
    {
      "cell_type": "markdown",
      "source": [
        ".py is the correct extension of the Python file."
      ],
      "metadata": {
        "id": "oTkFqrAxAfZi"
      }
    },
    {
      "cell_type": "markdown",
      "source": [
        "(5) Is Python code compiled or interpreted?"
      ],
      "metadata": {
        "id": "mLAdLo05AkvJ"
      }
    },
    {
      "cell_type": "markdown",
      "source": [
        "Python code is both compiled and interpreted"
      ],
      "metadata": {
        "id": "MjTrkV3bA0g9"
      }
    },
    {
      "cell_type": "markdown",
      "source": [
        "(6) Name a few blocks of code used to define in Python language?"
      ],
      "metadata": {
        "id": "EpfDS0rHA7je"
      }
    },
    {
      "cell_type": "markdown",
      "source": [
        "In Python, to define a block of code we use indentation. Indentation refers to whitespaces at the beginning of the line."
      ],
      "metadata": {
        "id": "e7leT-HRCF1U"
      }
    },
    {
      "cell_type": "markdown",
      "source": [
        "(7) State a character used to give single-line comments in python?"
      ],
      "metadata": {
        "id": "aWBBl2jqDZdf"
      }
    },
    {
      "cell_type": "markdown",
      "source": [
        "To write single-line comments in Python use the Hash character (#) at the beginning of the line. It is also called number sign or pound sign."
      ],
      "metadata": {
        "id": "0c7LZyFeDxK8"
      }
    },
    {
      "cell_type": "markdown",
      "source": [
        "(8) Mention function which can help us to find the version of python that we are currently working on?"
      ],
      "metadata": {
        "id": "wDPTErrvEcjo"
      }
    },
    {
      "cell_type": "markdown",
      "source": [
        "The function sys.version can help us to find the version of python that we are currently working on. It also contains information on the build number and compiler used. For example, 3.5.2, 2.7.3 etc. this function also returns the current date, time, bits etc along with the version."
      ],
      "metadata": {
        "id": "E2OJawvEE49N"
      }
    },
    {
      "cell_type": "markdown",
      "source": [
        "(9) Python supports the creation of anonymous functions at runtime, using a construct called __________"
      ],
      "metadata": {
        "id": "AREhJ-wjFgbS"
      }
    },
    {
      "cell_type": "markdown",
      "source": [
        "Python supports the creation of anonymous functions (i.e. functions that are not bound to a name) at runtime, using a construct called lambda. Lambda functions are restricted to a single expression. They can be used wherever normal functions can be used."
      ],
      "metadata": {
        "id": "31bM5597FziE"
      }
    },
    {
      "cell_type": "markdown",
      "source": [
        "(10) What does pip stand for python?"
      ],
      "metadata": {
        "id": "7umWriw0GDbo"
      }
    },
    {
      "cell_type": "markdown",
      "source": [
        "pip is a package manager for python. Which is also called Preferred Installer Program."
      ],
      "metadata": {
        "id": "YlevoCGfGR20"
      }
    },
    {
      "cell_type": "markdown",
      "source": [
        "(11) Mention a few built-in functions in python?"
      ],
      "metadata": {
        "id": "FzIh-KtfV5PB"
      }
    },
    {
      "cell_type": "markdown",
      "source": [
        "print() function is a built-in function which prints a value directly to the system output.\n",
        "\n",
        "len() function is an inbuilt function in Python. It can be used to find the length of an object. "
      ],
      "metadata": {
        "id": "yL-MztBLWOXu"
      }
    },
    {
      "cell_type": "markdown",
      "source": [
        "(12) What is the maximum possible length of an identifier in python?"
      ],
      "metadata": {
        "id": "IHm_d4PLZXIY"
      }
    },
    {
      "cell_type": "markdown",
      "source": [
        "An identifier can have a maximum length of 79 characters in Python."
      ],
      "metadata": {
        "id": "uBOO8IcOaDxk"
      }
    },
    {
      "cell_type": "markdown",
      "source": [
        "(13) What are the benefits of using Python?"
      ],
      "metadata": {
        "id": "akh4V7QkaE8f"
      }
    },
    {
      "cell_type": "markdown",
      "source": [
        "Python is a general-purpose programming language that has a simple, easy-to-learn syntax that emphasizes readability and therefore reduces the cost of program maintenance. Moreover, the language is capable of scripting, is completely open-source, and supports third-party packages encouraging modularity and code reuse.\n",
        "\n",
        "Its high-level data structures, combined with dynamic typing and dynamic binding, attract a huge community of developers for Rapid Application Development and deployment."
      ],
      "metadata": {
        "id": "WX38MHSlaTyi"
      }
    },
    {
      "cell_type": "markdown",
      "source": [
        "(14) How is memory managed in Python?"
      ],
      "metadata": {
        "id": "xu1l5gxRcD62"
      }
    },
    {
      "cell_type": "markdown",
      "source": [
        "Memory in Python is managed by Python private heap space. All Python objects and data structures are located in a private heap. This private heap is taken care of by Python Interpreter itself, and a programmer doesn’t have access to this private heap.\n",
        "\n",
        "Python memory manager takes care of the allocation of Python private heap space.\n",
        "\n",
        "Memory for Python private heap space is made available by Python’s in-built garbage collector, which recycles and frees up all the unused memory."
      ],
      "metadata": {
        "id": "gmITuJRPdjHY"
      }
    },
    {
      "cell_type": "markdown",
      "source": [
        "(15) How to install Python on Windows and set path variables?"
      ],
      "metadata": {
        "id": "KoBf0ixBdvIG"
      }
    },
    {
      "cell_type": "markdown",
      "source": [
        "On the web browser, in the official site of python (www.python.org), move to the Download for Windows section.\n",
        "\n",
        "All the available versions of Python will be listed. Select the version required by you and click on Download.\n",
        "\n",
        "On clicking download, various available executable installers shall be visible with different operating system specifications. Choose the installer which suits your operating system and download the installer. Let suppose, we select the Windows installer(64 bits).\n",
        "\n",
        "We downloaded the Python Windows 64 bit installer.\n",
        "\n",
        "Run the installer. Make sure to select both (Install launcher for all users and add python to path) the checkboxes at the bottom and then click Install New.\n",
        "\n",
        "On clicking the Install Now, The installation process starts.\n",
        "\n",
        "The installation process will take few minutes to complete and the installation is successful."
      ],
      "metadata": {
        "id": "5Asoqk37f5Vv"
      }
    },
    {
      "cell_type": "markdown",
      "source": [
        "(16) Is indentation required in python?"
      ],
      "metadata": {
        "id": "t6KpgG37jRKo"
      }
    },
    {
      "cell_type": "markdown",
      "source": [
        "Yes\n",
        "\n",
        "Indentation is mandatory in python to define the blocks of statements. "
      ],
      "metadata": {
        "id": "eTfpbj6CjcmN"
      }
    }
  ]
}